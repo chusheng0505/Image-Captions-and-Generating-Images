{
 "cells": [
  {
   "cell_type": "code",
   "execution_count": null,
   "metadata": {},
   "outputs": [],
   "source": [
    "import speech_recognition as sr\n",
    "from transformers import Wav2Vec2Processor, HubertForCTC,Wav2Vec2ForCTC\n",
    "import soundfile as sf\n",
    "from datasets import load_dataset\n",
    "import torch"
   ]
  },
  {
   "cell_type": "code",
   "execution_count": null,
   "metadata": {},
   "outputs": [],
   "source": [
    "pathSave = 'C:\\\\Users\\\\chushengtan\\\\Desktop\\\\'\n",
    "filename = 'audio_file_test.wav'\n",
    "timeout = 0.5\n",
    "waiting_time = 10\n",
    "\n",
    "r = sr.Recognizer()\n",
    "with sr.Microphone(device_index=1,sample_rate = 16000) as source:\n",
    "    r.adjust_for_ambient_noise(source)\n",
    "    print('請開始說話.....')\n",
    "    audio = r.listen(source,\n",
    "                    timeout = timeout,\n",
    "                    phrase_time_limit = waiting_time)\n",
    "    print('錄音結束.....')\n",
    "with open(pathSave + filename,'wb') as file:\n",
    "    file.write(audio.get_wav_data())"
   ]
  },
  {
   "cell_type": "code",
   "execution_count": null,
   "metadata": {},
   "outputs": [],
   "source": []
  },
  {
   "cell_type": "markdown",
   "metadata": {},
   "source": [
    "# 完成版"
   ]
  },
  {
   "cell_type": "code",
   "execution_count": null,
   "metadata": {},
   "outputs": [],
   "source": [
    "def speech2Wave(pathSave,filename,sample_rate = 16000,timeout = 0.5,waiting_time = 10):\n",
    "    \"\"\"\n",
    "    phrase_time_limit : waiting time for ending programming\n",
    "    mic = sr.Microphone() # 查詢全部 microphones 的裝置名稱\n",
    "    ref : https://realpython.com/python-speech-recognition/#working-with-microphones\n",
    "    ref : https://github.com/Uberi/speech_recognition\n",
    "    ref : https://github.com/pytorch/fairseq/tree/main/examples/hubert\n",
    "    \"\"\"\n",
    "    r = sr.Recognizer()\n",
    "    with sr.Microphone(sample_rate = sample_rate) as source:\n",
    "        r.adjust_for_ambient_noise(source)\n",
    "        print('請開始說話.....')\n",
    "        audio = r.listen(source,\n",
    "                         timeout = timeout,\n",
    "                         phrase_time_limit = waiting_time)\n",
    "        print('錄音結束.....')\n",
    "    with open(pathSave + filename,'wb') as file:\n",
    "        file.write(audio.get_wav_data())\n",
    "\n",
    "        \n",
    "\"\"\"\n",
    "------------------- loading model ------------------- \n",
    "\"\"\"        \n",
    "\n",
    "def Load_Model(processor_name,model_name):\n",
    "    \"\"\"\n",
    "    Load_Model(processor_name,model_name) : 載入使用模型\n",
    "    \"\"\"\n",
    "    processor = Wav2Vec2Processor.from_pretrained(processor_name)\n",
    "    model = HubertForCTC.from_pretrained(model_name)\n",
    "    return processor,model\n",
    "\n",
    "def Speech2Text(audio_path,processor_name,model_name):\n",
    "    \"\"\"\n",
    "    Speech2Text(audio_path,processor_name,model_name) : 將語音轉換成文字\n",
    "    --> audio_path : 語音檔案存放路徑位置 ; format : .wav\n",
    "    \"\"\"\n",
    "    processor , model = Load_Model(processor_name,model_name)\n",
    "#     processor = Wav2Vec2Processor.from_pretrained(processor_name)\n",
    "#     model = HubertForCTC.from_pretrained(model_name)\n",
    "    speech,_ = sf.read(audio_path)\n",
    "    input_values = processor(speech,return_tensors='pt',padding='longest').input_values\n",
    "    logits = model(input_values).logits\n",
    "    predicted_ids = torch.argmax(logits,dim=-1)\n",
    "    return processor.decode(predicted_ids[0])"
   ]
  },
  {
   "cell_type": "code",
   "execution_count": null,
   "metadata": {},
   "outputs": [],
   "source": [
    "%%time\n",
    "pathSave = 'C:\\\\Users\\\\chushengtan\\\\Desktop\\\\'\n",
    "filename = 'audio_file_test.wav'\n",
    "speech2Wave(pathSave=pathSave,filename=filename)"
   ]
  },
  {
   "cell_type": "code",
   "execution_count": null,
   "metadata": {
    "scrolled": true
   },
   "outputs": [],
   "source": [
    "%%time\n",
    "processor_name = 'facebook/hubert-xlarge-ls960-ft'\n",
    "model_name = 'facebook/hubert-xlarge-ls960-ft'\n",
    "audio_path = 'C:\\\\Users\\\\chushengtan\\\\Desktop\\\\audio_file_test.wav'\n",
    "Speech2Text(audio_path = audio_path,\n",
    "            processor_name = processor_name,\n",
    "            model_name = model_name)"
   ]
  },
  {
   "cell_type": "code",
   "execution_count": null,
   "metadata": {},
   "outputs": [],
   "source": []
  },
  {
   "cell_type": "code",
   "execution_count": null,
   "metadata": {},
   "outputs": [],
   "source": []
  }
 ],
 "metadata": {
  "kernelspec": {
   "display_name": "Python 3",
   "language": "python",
   "name": "python3"
  },
  "language_info": {
   "codemirror_mode": {
    "name": "ipython",
    "version": 3
   },
   "file_extension": ".py",
   "mimetype": "text/x-python",
   "name": "python",
   "nbconvert_exporter": "python",
   "pygments_lexer": "ipython3",
   "version": "3.7.6"
  }
 },
 "nbformat": 4,
 "nbformat_minor": 5
}
